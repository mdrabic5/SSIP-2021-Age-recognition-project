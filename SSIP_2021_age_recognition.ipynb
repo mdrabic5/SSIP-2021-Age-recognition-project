{
  "nbformat": 4,
  "nbformat_minor": 0,
  "metadata": {
    "colab": {
      "name": "SSIP_2021_age_recognition.ipynb",
      "provenance": [],
      "collapsed_sections": [],
      "authorship_tag": "ABX9TyNLf2rN92knVwh4rBmvgAe2",
      "include_colab_link": true
    },
    "kernelspec": {
      "name": "python3",
      "display_name": "Python 3"
    },
    "language_info": {
      "name": "python"
    }
  },
  "cells": [
    {
      "cell_type": "markdown",
      "metadata": {
        "id": "view-in-github",
        "colab_type": "text"
      },
      "source": [
        "<a href=\"https://colab.research.google.com/github/mdrabic5/SSIP-2021-Age-recognition-project/blob/main/SSIP_2021_age_recognition.ipynb\" target=\"_parent\"><img src=\"https://colab.research.google.com/assets/colab-badge.svg\" alt=\"Open In Colab\"/></a>"
      ]
    },
    {
      "cell_type": "code",
      "metadata": {
        "id": "pdUPdOaCSJL-",
        "colab": {
          "base_uri": "https://localhost:8080/"
        },
        "outputId": "3cdeaa55-586c-443d-9515-1c1eca32b5cd"
      },
      "source": [
        "!echo \"nesto\""
      ],
      "execution_count": null,
      "outputs": [
        {
          "output_type": "stream",
          "text": [
            "nesto\n"
          ],
          "name": "stdout"
        }
      ]
    }
  ]
}