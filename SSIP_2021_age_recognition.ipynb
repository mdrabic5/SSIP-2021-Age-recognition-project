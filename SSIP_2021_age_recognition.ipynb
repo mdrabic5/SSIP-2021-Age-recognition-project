{
  "nbformat": 4,
  "nbformat_minor": 0,
  "metadata": {
    "accelerator": "GPU",
    "colab": {
      "name": "SSIP_2021_age_recognition.ipynb",
      "provenance": [],
      "collapsed_sections": [],
      "authorship_tag": "ABX9TyOMJ5uqz26BvSVlQaiFLRIX",
      "include_colab_link": true
    },
    "kernelspec": {
      "display_name": "Python 3",
      "name": "python3"
    },
    "language_info": {
      "name": "python"
    }
  },
  "cells": [
    {
      "cell_type": "markdown",
      "metadata": {
        "id": "view-in-github",
        "colab_type": "text"
      },
      "source": [
        "<a href=\"https://colab.research.google.com/github/mdrabic5/SSIP-2021-Age-recognition-project/blob/main/SSIP_2021_age_recognition.ipynb\" target=\"_parent\"><img src=\"https://colab.research.google.com/assets/colab-badge.svg\" alt=\"Open In Colab\"/></a>"
      ]
    },
    {
      "cell_type": "code",
      "metadata": {
        "id": "4F-gIuTSEkOW"
      },
      "source": [
        "import os\n",
        "import itertools\n",
        "\n",
        "import cv2\n",
        "from time import time\n",
        "from google.colab.patches import cv2_imshow\n",
        "from google.colab import drive\n",
        "\n",
        "import pandas as pd\n",
        "pd.set_option('display.max_rows', 15000)\n",
        "pd.set_option('display.max_columns', 500)\n",
        "pd.set_option('display.width', 1000)\n",
        "pd.set_option('display.max_colwidth', None)\n",
        "\n",
        "import numpy as np\n",
        "from pathlib import Path\n",
        "import tensorflow as tf\n",
        "\n",
        "import matplotlib.pyplot as plt\n",
        "from tensorflow.keras.utils import to_categorical\n",
        "\n",
        "from keras.applications.mobilenet import MobileNet\n",
        "from sklearn.model_selection import train_test_split\n",
        "from sklearn.metrics import accuracy_score, precision_score, recall_score, f1_score, confusion_matrix\n",
        "from sklearn.metrics import classification_report\n",
        "from sklearn.metrics import roc_curve, auc\n",
        "from sklearn.metrics import roc_auc_score\n",
        "\n",
        "from keras.layers import Dense, Dropout, Flatten, GlobalMaxPooling2D, BatchNormalization\n",
        "from keras.models import Sequential\n",
        "from keras.callbacks import ModelCheckpoint, LearningRateScheduler, EarlyStopping, ReduceLROnPlateau, TensorBoard\n",
        "from tensorflow.keras.applications import EfficientNetB4"
      ],
      "execution_count": 40,
      "outputs": []
    },
    {
      "cell_type": "markdown",
      "metadata": {
        "id": "LUK7JlyBTcBR"
      },
      "source": [
        "# SSIP 2021 - Age recognition project\n",
        "\n",
        "Recognizing the age of person based on the facial image (the age can be recognized within several classes: teenager, young, middle age, old).\n",
        "\n",
        "Input: A digital image of a face.  \n",
        "Output: Age of person in the image.  \n",
        "Datasets: https://www.face-rec.org/databases/\n"
      ]
    },
    {
      "cell_type": "code",
      "metadata": {
        "colab": {
          "base_uri": "https://localhost:8080/"
        },
        "id": "u343LDGTLhp2",
        "outputId": "1c39bec4-da0d-4246-c206-c1bcaccdd64f"
      },
      "source": [
        "drive.mount('/content/drive/')"
      ],
      "execution_count": 3,
      "outputs": [
        {
          "output_type": "stream",
          "text": [
            "Drive already mounted at /content/drive/; to attempt to forcibly remount, call drive.mount(\"/content/drive/\", force_remount=True).\n"
          ],
          "name": "stdout"
        }
      ]
    },
    {
      "cell_type": "markdown",
      "metadata": {
        "id": "VuKw4TapNPQG"
      },
      "source": [
        "## Preparing dataset\n",
        "\n",
        "Before running the training on the data, the date needs to be cleaned and analyzed.  \n",
        "We have decided to use pandas library to clean the dataset.\n",
        "\n",
        "As for splitting the dataset to training and testing, the dataset already was split up to 5 folds. So we used first 4 folds for training and the last one for testing. Also, the training dataset was split up to training and validation by 9:1 ratio.\n",
        "\n",
        "The dataset came with 8 different age groups as the label for the samples.\n",
        "Those age groups are transformed into numeric value where fist age group (0, 2) is transformed to 0 and the last one (60, 100) to 7.\n",
        "\n",
        "The dataset also had to be cleaned before training the CNN model, we found some wrongly labeled samples and some samples anottated with None."
      ]
    },
    {
      "cell_type": "code",
      "metadata": {
        "id": "IrmHMqJFNTbD"
      },
      "source": [
        "# Constants\n",
        "DRIVE_SSIP_DIR = 'drive/MyDrive/SSIP2021/'\n",
        "METADATA_DIR = DRIVE_SSIP_DIR + 'data/metadata/'\n",
        "IMAGE_PREFIX = 'landmark_aligned_face.'\n",
        "IMAGES_DIR = 'drive/MyDrive/SSIP2021/data/images/'\n",
        "RESULTS_DIR = DRIVE_SSIP_DIR + \"results/\"\n",
        "\n",
        "LABEL_DICT = {'(0, 2)':0, '(4, 6)':1, '(8, 12)':2, '(15, 20)':3, '(25, 32)':4, '(38, 43)':5, '(48, 53)':6, '(60, 100)':7}\n",
        "\n",
        "# Creating pandas DataFrame with whole metadata for training\n",
        "list_df_train =  []\n",
        "\n",
        "for i in range(4):\n",
        "  df = pd.read_csv(METADATA_DIR + 'fold_frontal_' + str(i) + '_data.txt', delimiter = \"\\t\")\n",
        "  df['face_id'] = df['face_id'].astype('str')\n",
        "  df['age'] = df['age'].astype('str')\n",
        "\n",
        "  list_df_train.append(df)\n",
        "\n",
        "dfs_train = pd.concat(list_df_train, ignore_index=True, sort=False)\n",
        "\n",
        "# Creating pandas DataFrame with whole metadata for testing\n",
        "df_test = pd.read_csv(METADATA_DIR + 'fold_frontal_4_data.txt', delimiter = \"\\t\")\n",
        "df_test['face_id'] = df_test['face_id'].astype('str')\n",
        "df_test['age'] = df_test['age'].astype('str')\n",
        "\n",
        "\n",
        "# creating DataFrame with only 'image_path' and 'label' column\n",
        "df_metadata_train = pd.DataFrame()\n",
        "df_metadata_test = pd.DataFrame()\n",
        "\n",
        "df_metadata_train['image_path'] = dfs_train['user_id'] + '/' + IMAGE_PREFIX + dfs_train['face_id'] + '.' + dfs_train['original_image']\n",
        "df_metadata_train['label'] = dfs_train['age'].map(LABEL_DICT)\n",
        "\n",
        "df_metadata_test['image_path'] = df_test['user_id'] + '/' + IMAGE_PREFIX + df_test['face_id'] + '.' + df_test['original_image']\n",
        "df_metadata_test['label'] = df_test['age'].map(LABEL_DICT)"
      ],
      "execution_count": 4,
      "outputs": []
    },
    {
      "cell_type": "code",
      "metadata": {
        "id": "mV9vVPU36bbz"
      },
      "source": [
        "# Clean the dataset\n",
        "# - use only samples that have proper class\n",
        "df_metadata_train.dropna(inplace = True)\n",
        "df_metadata_test.dropna(inplace = True)\n",
        "\n",
        "df_metadata_train.reset_index(drop=True, inplace=True)\n",
        "df_metadata_test.reset_index(drop=True, inplace=True)"
      ],
      "execution_count": 27,
      "outputs": []
    },
    {
      "cell_type": "markdown",
      "metadata": {
        "id": "xgb13Ccf1czn"
      },
      "source": [
        "Visualizing the distribution of the dataset:\n",
        "\n"
      ]
    },
    {
      "cell_type": "code",
      "metadata": {
        "colab": {
          "base_uri": "https://localhost:8080/",
          "height": 542
        },
        "id": "gE9--zPn_9-E",
        "outputId": "576f0379-2669-4b75-b8f9-b11e51b479d9"
      },
      "source": [
        "# Visualize the dataset\n",
        "\n",
        "plt.figure()\n",
        "df_metadata_train['label'].value_counts().sort_index().plot(kind='bar')\n",
        "\n",
        "plt.figure()\n",
        "df_metadata_test['label'].value_counts().sort_index().plot(kind='bar')"
      ],
      "execution_count": 28,
      "outputs": [
        {
          "output_type": "execute_result",
          "data": {
            "text/plain": [
              "<matplotlib.axes._subplots.AxesSubplot at 0x7fc1e0c17c50>"
            ]
          },
          "metadata": {
            "tags": []
          },
          "execution_count": 28
        },
        {
          "output_type": "display_data",
          "data": {
            "image/png": "[encoded data removed]",
            "text/plain": [
              "<Figure size 432x288 with 1 Axes>"
            ]
          },
          "metadata": {
            "tags": [],
            "needs_background": "light"
          }
        },
        {
          "output_type": "display_data",
          "data": {
            "image/png": "[encoded data removed]",
            "text/plain": [
              "<Figure size 432x288 with 1 Axes>"
            ]
          },
          "metadata": {
            "tags": [],
            "needs_background": "light"
          }
        }
      ]
    },
    {
      "cell_type": "code",
      "metadata": {
        "colab": {
          "base_uri": "https://localhost:8080/"
        },
        "id": "cYFFAlsbczlR",
        "outputId": "48f73b40-59d9-4687-8394-1f5e8250c4b1"
      },
      "source": [
        "# Split training dataset to Train and Validation\n",
        "df_metadata_train, df_metadata_valid = train_test_split(df_metadata_train,\n",
        "                                       test_size = 0.1,\n",
        "                                       random_state = 2018,\n",
        "                                       stratify = df_metadata_train['label'],\n",
        "                                       shuffle=True)\n",
        "\n",
        "print(\"How many data for training:\", df_metadata_train.shape[0])\n",
        "print(\"How many data for validation:\", df_metadata_valid.shape[0])\n",
        "print(\"How many data for testing:\", df_metadata_test.shape[0])"
      ],
      "execution_count": 8,
      "outputs": [
        {
          "output_type": "stream",
          "text": [
            "How many data for training: 8885\n",
            "How many data for validation: 988\n",
            "How many data for testing: 2309\n"
          ],
          "name": "stdout"
        }
      ]
    },
    {
      "cell_type": "markdown",
      "metadata": {
        "id": "2QYiqIJY1ooo"
      },
      "source": [
        "## Helper functions for generating batches of 16 samples for training"
      ]
    },
    {
      "cell_type": "code",
      "metadata": {
        "id": "4L1u-czwv_cd"
      },
      "source": [
        "# Reading images and prepare them for training\n",
        "# - resizing the images and normalizing pixel values\n",
        "def create_dataset(df):\n",
        "   \n",
        "    img_data_array=[]\n",
        "    class_name=[]\n",
        "\n",
        "    IMG_HEIGHT = IMG_WIDTH = 380\n",
        "   \n",
        "    for index, row in df.iterrows():\n",
        "            image_path = IMAGES_DIR + 'images_original/aligned/' + row['image_path']\n",
        "            label = row['label']\n",
        "\n",
        "            my_file = Path(image_path)\n",
        "            if my_file.is_file():\n",
        "              image = cv2.imread(image_path, cv2.COLOR_BGR2RGB)\n",
        "              image=cv2.resize(image, (IMG_HEIGHT, IMG_WIDTH), interpolation = cv2.INTER_AREA)\n",
        "\n",
        "              image=np.array(image)\n",
        "              image = image.astype('float32')\n",
        "              image /= 255 \n",
        "              img_data_array.append(image)\n",
        "\n",
        "              class_name.append(label)\n",
        "   \n",
        "    return np.array(img_data_array), np.array((class_name))\n",
        "\n",
        "# Generate data in batches of 16 samples for training\n",
        "def gen(df, batch_size=16):\n",
        "    while True:\n",
        "        steps = df.shape[0] // batch_size\n",
        "\n",
        "        for i, df_batch in enumerate([df[i*batch_size:(i+1)*batch_size] for i in range(0, steps)]):\n",
        "            X, Y = create_dataset(df_batch)\n",
        "            yield X, Y"
      ],
      "execution_count": 9,
      "outputs": []
    },
    {
      "cell_type": "markdown",
      "metadata": {
        "id": "6PRM3X8TlZvM"
      },
      "source": [
        "## Model\n",
        "\n",
        "The model that we used as a base is the pretrained network (EfficientNet) and use only convolutional and pooling layers.\n",
        "After that we added some BatchNormalization layers, max-pooling, dropout and two dense layers (one with 100 neurons and the final one with 8 neurons).\n",
        "\n"
      ]
    },
    {
      "cell_type": "code",
      "metadata": {
        "id": "-ztHGhmElbv6"
      },
      "source": [
        "# Define how the model will look like\n",
        "\n",
        "base_efficientnet_model = EfficientNetB4(input_shape =  (380, 380, 3), include_top = False, weights = 'imagenet')\n",
        "\n",
        "age_model = Sequential()\n",
        "age_model.add(BatchNormalization(input_shape =  (380, 380, 3)))\n",
        "age_model.add(base_efficientnet_model)\n",
        "age_model.add(BatchNormalization())\n",
        "age_model.add(GlobalMaxPooling2D())\n",
        "age_model.add(Dropout(0.5))\n",
        "age_model.add(Dense(100, activation=\"relu\"))\n",
        "age_model.add(Dropout(0.5))\n",
        "age_model.add(Dense(8, activation = 'softmax'))"
      ],
      "execution_count": 10,
      "outputs": []
    },
    {
      "cell_type": "markdown",
      "metadata": {
        "id": "HtpIt9qP2z1t"
      },
      "source": [
        "## Training\n",
        "\n",
        "The model is trained with batches of 16 samples and it is set to run on 100 epocs.\n",
        "The loss we decided to use is \"sparse categorical cross-entropy\" and ADAM optimizer."
      ]
    },
    {
      "cell_type": "code",
      "metadata": {
        "id": "07WLIsN1v4O8"
      },
      "source": [
        "# Training the model\n",
        "age_model.compile(loss=\"sparse_categorical_crossentropy\", metrics=['acc'], optimizer=\"adam\")\n",
        "\n",
        "\n",
        "weight_path = RESULTS_DIR + \"age_recognition_weights_best.hdf5\"\n",
        "checkpoint = ModelCheckpoint(weight_path, monitor='val_acc', verbose=1, save_best_only=True, mode='max')\n",
        "\n",
        "\n",
        "# reducing learning rate\n",
        "reduceLROnPlat = ReduceLROnPlateau(monitor='val_acc', factor=0.1, patience=3, mode=\"max\")\n",
        "early = EarlyStopping(monitor=\"val_acc\",\n",
        "                      mode=\"max\",\n",
        "                      patience=10)\n",
        "\n",
        "tensorboard = TensorBoard(log_dir=RESULTS_DIR + \"logs/{}\".format(time()))\n",
        "callbacks_list = [checkpoint, tensorboard, early, reduceLROnPlat]\n",
        "\n",
        "age_model.fit_generator(gen(df_metadata_train),\n",
        "                        validation_data = gen(df_metadata_valid),\n",
        "                        epochs = 100,\n",
        "                        callbacks = callbacks_list,\n",
        "                        shuffle = True,\n",
        "                        steps_per_epoch = df_metadata_train.shape[0] // 16,\n",
        "                        validation_steps = df_metadata_valid.shape[0] // 16)\n"
      ],
      "execution_count": null,
      "outputs": []
    },
    {
      "cell_type": "markdown",
      "metadata": {
        "id": "saGi1S3g7AUS"
      },
      "source": [
        "## Helper function for representing the confusion matrix\n"
      ]
    },
    {
      "cell_type": "code",
      "metadata": {
        "id": "dCcFWfPo66yG"
      },
      "source": [
        "def plot_confusion_matrix(cm, classes, matrix_name, normalize=False, title='', cmap=plt.cm.Blues):\n",
        "    \"\"\"\n",
        "    This function prints and plots the confusion matrix.\n",
        "    Normalization can be applied by setting `normalize=True`.\n",
        "\n",
        "    Code is taken from scikit-learn.org example.\n",
        "    \"\"\"\n",
        "    if normalize:\n",
        "        cm = cm.astype('float') / cm.sum(axis=1)[:, np.newaxis]\n",
        "        print(\"Normalized confusion matrix\")\n",
        "    else:\n",
        "        print('Confusion matrix, without normalization')\n",
        "\n",
        "    print(cm)\n",
        "\n",
        "    fig = plt.figure(\"Confusion matrix\")\n",
        "    fig.set_size_inches(22, 22)\n",
        "\n",
        "    plt.imshow(cm, interpolation='nearest', cmap=cmap)\n",
        "    plt.title(title)\n",
        "    plt.colorbar()\n",
        "    tick_marks = np.arange(len(classes))\n",
        "    plt.xticks(tick_marks, classes, rotation=45)\n",
        "    plt.yticks(tick_marks, classes)\n",
        "\n",
        "    fmt = '.2f' if normalize else 'd'\n",
        "    thresh = cm.max() / 2.\n",
        "    for i, j in itertools.product(range(cm.shape[0]), range(cm.shape[1])):\n",
        "        plt.text(\n",
        "            j, i,\n",
        "            format(cm[i, j], fmt),\n",
        "            horizontalalignment=\"center\",\n",
        "            color=\"white\" if cm[i, j] > thresh else \"black\"\n",
        "        )\n",
        "\n",
        "    plt.ylabel('True label')\n",
        "    plt.xlabel('Predicted label')\n",
        "    plt.tight_layout()\n",
        "\n",
        "    plt.show()"
      ],
      "execution_count": 12,
      "outputs": []
    },
    {
      "cell_type": "markdown",
      "metadata": {
        "id": "-p5RrSfF6FiQ"
      },
      "source": [
        "## Evaluation"
      ]
    },
    {
      "cell_type": "code",
      "metadata": {
        "id": "s6lSt9a6KGrI"
      },
      "source": [
        "# Load the model with best weights\n",
        "age_model = tf.keras.models.load_model(weight_path)\n",
        "\n",
        "# Evaluation\n",
        "X_test, Y_test = create_dataset(df_metadata_test)\n",
        "\n",
        "results = age_model.evaluate(X_test, Y_test)\n",
        "print(\"test loss, test acc:\", results)\n",
        "\n",
        "\n",
        "# Make some predictions on 16 images\n",
        "predicted_classes = age_model.predict(X_test, batch_size=16)\n",
        "predicted_classes = np.argmax(predicted_classes, axis=1)\n",
        "actual_classes = Y_test\n",
        "\n",
        "for i in range(16):\n",
        "  image_path = IMAGES_DIR + 'images_original/aligned/' + df_metadata_test['image_path'][i]\n",
        "\n",
        "  image_test = cv2.imread(image_path, cv2.COLOR_BGR2RGB)\n",
        "  image_test = cv2.resize(image_test, (100, 100), interpolation = cv2.INTER_AREA)\n",
        "  cv2_imshow(image_test)\n",
        "\n",
        "  print(\"Prediction:\", predicted_classes[i])\n",
        "  print(\"Actual:\", actual_classes[i])\n",
        "\n"
      ],
      "execution_count": null,
      "outputs": []
    },
    {
      "cell_type": "markdown",
      "metadata": {
        "id": "cXLpjzTQJ8cp"
      },
      "source": [
        "Confusion matrix:"
      ]
    },
    {
      "cell_type": "code",
      "metadata": {
        "colab": {
          "base_uri": "https://localhost:8080/",
          "height": 1000
        },
        "id": "yyHuwLjGpwo6",
        "outputId": "fec4e159-1615-4e25-884a-21348c1233ac"
      },
      "source": [
        "cm = confusion_matrix(actual_classes, predicted_classes)\n",
        "plot_confusion_matrix(cm, LABEL_DICT.keys(), \"CNN\")"
      ],
      "execution_count": 61,
      "outputs": [
        {
          "output_type": "stream",
          "text": [
            "Confusion matrix, without normalization\n",
            "[[  0   0   0   0 219   0   0   0]\n",
            " [  0   0   0   0 414   0   0   0]\n",
            " [  0   0   0   0 226   0   0   0]\n",
            " [  0   0   0   0 152   0   0   0]\n",
            " [  0   0   0   0 629   0   0   0]\n",
            " [  0   0   0   0 328   0   0   0]\n",
            " [  0   0   0   0 159   0   0   0]\n",
            " [  0   0   0   0 182   0   0   0]]\n"
          ],
          "name": "stdout"
        },
        {
          "output_type": "display_data",
          "data": {
            "image/png": "[encoded data removed]",
            "text/plain": [
              "<Figure size 1584x1584 with 2 Axes>"
            ]
          },
          "metadata": {
            "tags": [],
            "needs_background": "light"
          }
        }
      ]
    },
    {
      "cell_type": "markdown",
      "metadata": {
        "id": "70vkjbNEKEBJ"
      },
      "source": [
        "Classification report:\n"
      ]
    },
    {
      "cell_type": "code",
      "metadata": {
        "colab": {
          "base_uri": "https://localhost:8080/"
        },
        "id": "pqFMqaam-seH",
        "outputId": "7c4c12d3-0571-46ed-e877-0509422429a2"
      },
      "source": [
        "print('\\nClassification Report\\n')\n",
        "print(classification_report(actual_classes, predicted_classes, target_names=LABEL_DICT.keys()))"
      ],
      "execution_count": 51,
      "outputs": [
        {
          "output_type": "stream",
          "text": [
            "\n",
            "Classification Report\n",
            "\n",
            "              precision    recall  f1-score   support\n",
            "\n",
            "      (0, 2)       0.00      0.00      0.00       219\n",
            "      (4, 6)       0.00      0.00      0.00       414\n",
            "     (8, 12)       0.00      0.00      0.00       226\n",
            "    (15, 20)       0.00      0.00      0.00       152\n",
            "    (25, 32)       0.27      1.00      0.43       629\n",
            "    (38, 43)       0.00      0.00      0.00       328\n",
            "    (48, 53)       0.00      0.00      0.00       159\n",
            "   (60, 100)       0.00      0.00      0.00       182\n",
            "\n",
            "    accuracy                           0.27      2309\n",
            "   macro avg       0.03      0.12      0.05      2309\n",
            "weighted avg       0.07      0.27      0.12      2309\n",
            "\n"
          ],
          "name": "stdout"
        },
        {
          "output_type": "stream",
          "text": [
            "/usr/local/lib/python3.7/dist-packages/sklearn/metrics/_classification.py:1272: UndefinedMetricWarning: Precision and F-score are ill-defined and being set to 0.0 in labels with no predicted samples. Use `zero_division` parameter to control this behavior.\n",
            "  _warn_prf(average, modifier, msg_start, len(result))\n"
          ],
          "name": "stderr"
        }
      ]
    },
    {
      "cell_type": "markdown",
      "metadata": {
        "id": "g11hrZPBKIMw"
      },
      "source": [
        "ROC curve:"
      ]
    },
    {
      "cell_type": "code",
      "metadata": {
        "colab": {
          "base_uri": "https://localhost:8080/",
          "height": 514
        },
        "id": "T8W6kRFiDEyG",
        "outputId": "92495a2d-2e5f-404e-8a04-025d20455c67"
      },
      "source": [
        "import matplotlib.pyplot as plt \n",
        "from sklearn.preprocessing import LabelBinarizer\n",
        "from sklearn.metrics import roc_curve, auc, roc_auc_score\n",
        "\n",
        "\n",
        "# set plot figure size\n",
        "fig, c_ax = plt.subplots(1,1, figsize = (12, 8))\n",
        "\n",
        "# function for scoring roc auc score for multi-class\n",
        "def multiclass_roc_auc_score(y_test, y_pred, average=\"macro\"):\n",
        "    lb = LabelBinarizer()\n",
        "    lb.fit(y_test)\n",
        "    y_test = lb.transform(y_test)\n",
        "    y_pred = lb.transform(y_pred)\n",
        "\n",
        "    for (idx, c_label) in enumerate(LABEL_DICT.keys()):\n",
        "        fpr, tpr, thresholds = roc_curve(y_test[:,idx].astype(int), y_pred[:,idx])\n",
        "        c_ax.plot(fpr, tpr, label = '%s (AUC:%0.2f)'  % (c_label, auc(fpr, tpr)))\n",
        "    c_ax.plot(fpr, fpr, 'b-', label = 'Random Guessing')\n",
        "    return roc_auc_score(y_test, y_pred, average=average)\n",
        "\n",
        "\n",
        "print('ROC AUC score:', multiclass_roc_auc_score(actual_classes, predicted_classes))\n",
        "\n",
        "c_ax.legend()\n",
        "c_ax.set_xlabel('False Positive Rate')\n",
        "c_ax.set_ylabel('True Positive Rate')\n",
        "plt.show()"
      ],
      "execution_count": 60,
      "outputs": [
        {
          "output_type": "stream",
          "text": [
            "ROC AUC score: 0.5\n"
          ],
          "name": "stdout"
        },
        {
          "output_type": "display_data",
          "data": {
            "image/png": "[encoded data removed]",
            "text/plain": [
              "<Figure size 864x576 with 1 Axes>"
            ]
          },
          "metadata": {
            "tags": [],
            "needs_background": "light"
          }
        }
      ]
    }
  ]
}